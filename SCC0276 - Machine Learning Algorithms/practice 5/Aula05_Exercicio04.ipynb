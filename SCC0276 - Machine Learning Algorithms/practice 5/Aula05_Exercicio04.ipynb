{
  "nbformat": 4,
  "nbformat_minor": 0,
  "metadata": {
    "colab": {
      "name": "xCopy of Aula05-Exercicio04.ipynb",
      "version": "0.3.2",
      "provenance": [],
      "collapsed_sections": [],
      "toc_visible": true
    },
    "kernelspec": {
      "name": "python3",
      "display_name": "Python 3"
    }
  },
  "cells": [
    {
      "metadata": {
        "id": "B6pycK2JFh1I",
        "colab_type": "text"
      },
      "cell_type": "markdown",
      "source": [
        "# Aula 05 - Exercício 04\n",
        "\n",
        "### Alunos:\n",
        " - Felipe Yoshio Guskuma nºUSP 9292500\n",
        " - Rafael Rodrigues Santana nºUSP 7594375"
      ]
    },
    {
      "metadata": {
        "id": "Edrz0weR9EkM",
        "colab_type": "text"
      },
      "cell_type": "markdown",
      "source": [
        "## Perceptron e Data augmentation \n",
        "Neste exercicio utilizaremos o classificador Perceptron para classificar dois dígitos. No código abaixo os dois digitos são carregados e exibidos lado a lado."
      ]
    },
    {
      "metadata": {
        "id": "o_vJvAyWwzCA",
        "colab_type": "code",
        "outputId": "60d3dcaa-e505-4202-a6a1-3d88210e20e8",
        "colab": {
          "base_uri": "https://localhost:8080/",
          "height": 251
        }
      },
      "cell_type": "code",
      "source": [
        "from skimage.io import imread\n",
        "from matplotlib import pyplot as plt\n",
        "\n",
        "# Lendo as duas imagens originais\n",
        "V = imread(\"V.png\", as_grey=True)\n",
        "V_inv = imread(\"inv_V.png\", as_grey=True)\n",
        "\n",
        "# Figura vai ter 1 linha e 2 colunas\n",
        "rows = 1\n",
        "columns = 2\n",
        "fig = plt.figure(figsize=(8, 8))\n",
        "\n",
        "# Exibindo primeira imagem\n",
        "fig.add_subplot(rows, columns, 1)\n",
        "plt.grid(False)\n",
        "plt.imshow(V)\n",
        "\n",
        "# Exibindo segunda imagem\n",
        "fig.add_subplot(rows, columns, 2)\n",
        "plt.grid(False)\n",
        "plt.imshow(V_inv)\n",
        "plt.show()"
      ],
      "execution_count": 0,
      "outputs": [
        {
          "output_type": "display_data",
          "data": {
            "image/png": "[encoded data removed]",
            "text/plain": [
              "<Figure size 576x576 with 2 Axes>"
            ]
          },
          "metadata": {
            "tags": []
          }
        }
      ]
    },
    {
      "metadata": {
        "id": "nP7SreIS_w5E",
        "colab_type": "text"
      },
      "cell_type": "markdown",
      "source": [
        "\n",
        "\n",
        "---\n",
        "\n",
        "- Dado o código acima, aplique ruído (random_nosie) no primeiro símbolo e rotacione (transform.rotate) em 25º o segundo símbolo antes de exibi-los.\n",
        "  - Dica: Para o `random_noise` utilize parametro `mode='pepper' ` e  para `transform.rotate` utilize `preserve_range=True, mode='constant', cval=1`"
      ]
    },
    {
      "metadata": {
        "id": "DYTrwfNoEyHe",
        "colab_type": "code",
        "outputId": "1eea287a-2974-40f5-ea10-5d91dc5125bc",
        "colab": {
          "base_uri": "https://localhost:8080/",
          "height": 251
        }
      },
      "cell_type": "code",
      "source": [
        "from skimage.util import random_noise\n",
        "from skimage import transform\n",
        "\n",
        "\n",
        "fig = plt.figure(figsize=(8, 8))\n",
        "# Exibindo primeira imagem\n",
        "p = random_noise(V , mode = \"pepper\")\n",
        "fig.add_subplot(1, 2, 1)\n",
        "plt.grid(False)\n",
        "plt.imshow(p)\n",
        "\n",
        "# Exibindo segunda imagem\n",
        "q = transform.rotate(V_inv , preserve_range = True, mode = 'constant', cval = 1, angle = 25)\n",
        "fig.add_subplot(1, 2, 2)\n",
        "plt.grid(False)\n",
        "plt.imshow(q)\n",
        "plt.show()"
      ],
      "execution_count": 0,
      "outputs": [
        {
          "output_type": "display_data",
          "data": {
            "image/png": "[encoded data removed]",
            "text/plain": [
              "<Figure size 576x576 with 2 Axes>"
            ]
          },
          "metadata": {
            "tags": []
          }
        }
      ]
    },
    {
      "metadata": {
        "id": "WmxRTXAdBQU7",
        "colab_type": "text"
      },
      "cell_type": "markdown",
      "source": [
        "\n",
        "\n",
        "---\n",
        "\n",
        "- Agora defina a função `gen_data` abaixo. A função recebe como parâmetros: uma imagem base (v ou v invertido), a quantidade de dados artificiais a serem gerados, a classe da imagem base passada e uma lista de dados e labels. A função deve concatenar (`append`) as imagens geradas na lista `data` e suas respectivas classes na lista `target`.\n",
        "\n",
        "  - Dica: Utilize a função `random.uniform(-a, a)` para gerar valores aleatórios entre -a e a para criar angulos de rotação variados.\n",
        "  - Dica: Utilize valores diferentes para o parâmetro `seed` do random_noise para produzir resultados diferentes"
      ]
    },
    {
      "metadata": {
        "id": "EZ6MAsBG121k",
        "colab_type": "code",
        "colab": {}
      },
      "cell_type": "code",
      "source": [
        "import random\n",
        "import math\n",
        "\n",
        "def gen_data(base_image, quantity, label, data, target):\n",
        "    for i in range(quantity):\n",
        "      a = math.pi\n",
        "      angle = random.uniform(-20, 20)\n",
        "      image = transform.rotate(base_image , preserve_range = True, mode = 'constant', cval = 1, angle = angle)\n",
        "      data.append(random_noise(image , mode = \"pepper\", seed = i))\n",
        "      target.append(label)\n",
        "    "
      ],
      "execution_count": 0,
      "outputs": []
    },
    {
      "metadata": {
        "id": "w4jaRJrBDbYp",
        "colab_type": "text"
      },
      "cell_type": "markdown",
      "source": [
        "\n",
        "\n",
        "---\n",
        "\n",
        "\n",
        "- Edite a linha abaixo do comentário para exibir uma imagem 4x4 do dataset criado acima."
      ]
    },
    {
      "metadata": {
        "id": "U-ds_v6X2X10",
        "colab_type": "code",
        "outputId": "e4296dcb-bd96-4268-8871-299ee7d995f9",
        "colab": {
          "base_uri": "https://localhost:8080/",
          "height": 485
        }
      },
      "cell_type": "code",
      "source": [
        "import numpy as np\n",
        "\n",
        "x = []\n",
        "y = []\n",
        "\n",
        "gen_data(V, 8 , 0, x, y) #0 -> V\n",
        "gen_data(V_inv, 8, 1, x, y) # 1 -> Vinv\n",
        "x = np.asarray(x)\n",
        "y = np.asarray(y)\n",
        "fig = plt.figure(figsize=(8, 8))\n",
        "############################\n",
        "for i in range(16):\n",
        "  fig.add_subplot(4, 4, i+1)\n",
        "  plt.grid(False)\n",
        "  plt.imshow(x[i])\n",
        "plt.show()"
      ],
      "execution_count": 0,
      "outputs": [
        {
          "output_type": "display_data",
          "data": {
            "image/png": "[encoded data removed]",
            "text/plain": [
              "<Figure size 576x576 with 16 Axes>"
            ]
          },
          "metadata": {
            "tags": []
          }
        }
      ]
    },
    {
      "metadata": {
        "id": "wRWpOUAUEUjk",
        "colab_type": "text"
      },
      "cell_type": "markdown",
      "source": [
        "\n",
        "\n",
        "---\n",
        "\n",
        "- Separe o dataset criado em 12 imagens de treinamento e 4 imagens de teste utilizando a função `train_test_split`. Depois treine um classificador do tipo Perceptron no conjunto de treino. Calcule a acurácia para os conjuntos de treino e teste.\n",
        "\n",
        "  - Dica: Você deve transformar as dimensões do conjunto de entrada para utilizar o Perceptron. Uma observação do conjunto é uma matriz 30x30. Para aplicar essa matriz no perceptron, você deve transformá-la em um vetor com 30x30 =900 elementos. Para isso utilize a função reshape da biblioteca numpy para transformar o conjunto x por inteiro."
      ]
    },
    {
      "metadata": {
        "id": "T31FabIn5bMY",
        "colab_type": "code",
        "outputId": "3f7a1641-df38-498a-b33b-c8cdaec37626",
        "colab": {
          "base_uri": "https://localhost:8080/",
          "height": 34
        }
      },
      "cell_type": "code",
      "source": [
        "from sklearn.model_selection import train_test_split\n",
        "from sklearn.linear_model import Perceptron\n",
        "from sklearn.metrics import accuracy_score\n",
        "\n",
        "\n",
        "\n",
        "#print(x[1].shape) \n",
        "x = x.reshape(16,900) \n",
        "#print(x[1].shape) \n",
        "\n",
        "X_train, X_test, y_train, y_test = train_test_split(x,y, test_size = 4, train_size = 12, shuffle = True)\n",
        "\n",
        "#print(train)\n",
        "\n",
        "clf = Perceptron(tol=1e-3, random_state=0)\n",
        "clf.fit(X_train, y_train)\n",
        "predicao = clf.predict(X_test)\n",
        "\n",
        "accuracy_score(y_test,predicao)"
      ],
      "execution_count": 0,
      "outputs": [
        {
          "output_type": "execute_result",
          "data": {
            "text/plain": [
              "1.0"
            ]
          },
          "metadata": {
            "tags": []
          },
          "execution_count": 6
        }
      ]
    },
    {
      "metadata": {
        "id": "z8OfZnPPJU-s",
        "colab_type": "text"
      },
      "cell_type": "markdown",
      "source": [
        "\n",
        "\n",
        "---\n",
        "\n",
        "Devido à natureza da função threshold, podemos ter uma falsa sensação de quê nosso classificador classifica os exemplos com a mesma confiança. Porém, isso não é verdadeiro. No caso do perceptron utilizado, podemos ter uma medida da confiança do classificador para um dado exemplo calculando a distância relativa desse exemplo para o hiperplano separador. Essa medida pode ser obtida através da função `decision_function(X)`\n",
        "\n",
        "- Utilize a função  `decision_function(X)` para calcular a distância dos exemplos query0.png ~ query4.png ao hiperplano separador do classificador treinado no item anterior e analise a relação entre distância x confiança x qualidade do símbolo na imagem."
      ]
    },
    {
      "metadata": {
        "id": "Jr88pwaELwTA",
        "colab_type": "code",
        "outputId": "8cd10102-36c2-4775-95ea-831b13c74c01",
        "colab": {
          "base_uri": "https://localhost:8080/",
          "height": 34
        }
      },
      "cell_type": "code",
      "source": [
        "query = []\n",
        "\n",
        "query.append(imread(\"query0.png\", as_grey=True))\n",
        "query.append(imread(\"query1.png\", as_grey=True))\n",
        "query.append(imread(\"query2.png\", as_grey=True))\n",
        "query.append(imread(\"query4.png\", as_grey=True))\n",
        "\n",
        "query = np.asarray(query)\n",
        "\n",
        "query = query.reshape(4,900) \n",
        "\n",
        "\n",
        "clf.decision_function(query)"
      ],
      "execution_count": 0,
      "outputs": [
        {
          "output_type": "execute_result",
          "data": {
            "text/plain": [
              "array([-0.75018393,  7.06146355, 21.37624557, -8.64080931])"
            ]
          },
          "metadata": {
            "tags": []
          },
          "execution_count": 10
        }
      ]
    },
    {
      "metadata": {
        "id": "i-nBG306cRbD",
        "colab_type": "text"
      },
      "cell_type": "markdown",
      "source": [
        "Quanto maior a distância do ponto ao hiperplano, menor a qualidade do símbolo na imagem e consequentemente, menor a confiança da predição."
      ]
    }
  ]
}